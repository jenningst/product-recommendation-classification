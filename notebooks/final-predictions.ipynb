{
 "cells": [
  {
   "cell_type": "code",
   "execution_count": 6,
   "metadata": {},
   "outputs": [],
   "source": [
    "import itertools\n",
    "import joblib\n",
    "import matplotlib.pyplot as plt\n",
    "import numpy as np\n",
    "import pandas as pd\n",
    "\n",
    "from sklearn.metrics import classification_report, confusion_matrix\n",
    "from sklearn.model_selection import cross_val_predict"
   ]
  },
  {
   "cell_type": "code",
   "execution_count": 7,
   "metadata": {},
   "outputs": [],
   "source": [
    "# import the fitted model, make predictions, and conduct error analysis on the wrong predictions\n",
    "model = joblib.load('../models/logistic-regression-tuned.joblib')\n",
    "\n",
    "test = pd.read_csv('../data/final/test.csv')\n",
    "X = test.drop(labels=['w2v_feat', 'target', 'review_text'], axis=1)\n",
    "y = test['target']"
   ]
  },
  {
   "cell_type": "code",
   "execution_count": 8,
   "metadata": {},
   "outputs": [],
   "source": [
    "# make predictions\n",
    "y_pred = model.predict(X)"
   ]
  },
  {
   "cell_type": "code",
   "execution_count": 9,
   "metadata": {},
   "outputs": [],
   "source": [
    "def plot_confusion_matrix(cm, classes,\n",
    "                          normalize=False,\n",
    "                          title='Confusion matrix',\n",
    "                          cmap=plt.cm.Blues):\n",
    "    \"\"\"\n",
    "    This function prints and plots the confusion matrix.\n",
    "    Normalization can be applied by setting `normalize=True`.\n",
    "    \"\"\"\n",
    "    if normalize:\n",
    "        cm = cm.astype('float') / cm.sum(axis=1)[:, np.newaxis]\n",
    "\n",
    "    plt.figure(figsize=(10, 10))\n",
    "    plt.imshow(cm, interpolation='nearest', cmap=cmap)\n",
    "    plt.title(title, fontsize=20)\n",
    "\n",
    "    tick_marks = np.arange(len(classes))\n",
    "    plt.xticks(tick_marks, classes, rotation=45)\n",
    "    plt.yticks(tick_marks, classes)\n",
    "\n",
    "    fmt = '.2f' if normalize else 'd'\n",
    "    thresh = cm.max() / 2.\n",
    "    for i, j in itertools.product(range(cm.shape[0]), range(cm.shape[1])):\n",
    "        plt.text(j, i, format(cm[i, j], fmt),\n",
    "                 horizontalalignment=\"center\",\n",
    "                 fontsize=12,\n",
    "                 color=\"white\" if cm[i, j] > thresh else \"black\")\n",
    "\n",
    "    plt.tight_layout()\n",
    "    plt.ylabel('True label', fontsize=12)\n",
    "    plt.xlabel('Predicted label', fontsize=12)"
   ]
  },
  {
   "cell_type": "code",
   "execution_count": 10,
   "metadata": {},
   "outputs": [
    {
     "name": "stdout",
     "output_type": "stream",
     "text": [
      "Classification Report : Logistic Regression (TFIDF)\n",
      "\n",
      "-------------------------------------\n",
      "                 precision    recall  f1-score   support\n",
      "\n",
      "    recommended       0.95      0.86      0.90      5546\n",
      "not-recommended       0.57      0.82      0.67      1247\n",
      "\n",
      "       accuracy                           0.85      6793\n",
      "      macro avg       0.76      0.84      0.79      6793\n",
      "   weighted avg       0.88      0.85      0.86      6793\n",
      "\n",
      "Confusion Matrix : Logistic Regression (TFIDF)\n",
      "\n",
      "-------------------------------------\n"
     ]
    },
    {
     "data": {
      "image/png": "[encoded data removed]",
      "text/plain": [
       "<Figure size 720x720 with 1 Axes>"
      ]
     },
     "metadata": {
      "needs_background": "light"
     },
     "output_type": "display_data"
    }
   ],
   "source": [
    "# print classification reports\n",
    "TARGETS = ['recommended', 'not-recommended']\n",
    "\n",
    "y_pred = cross_val_predict(model, X, y)\n",
    "print(f'Classification Report : Logistic Regression (TFIDF)\\n')\n",
    "print('-------------------------------------')\n",
    "print(classification_report(y, y_pred, target_names=TARGETS))\n",
    "\n",
    "# print confusion matrices\n",
    "print(f'Confusion Matrix : Logistic Regression (TFIDF)\\n')\n",
    "print('-------------------------------------')\n",
    "plot_confusion_matrix(confusion_matrix(y, y_pred), classes=['recommended','not-recommended'], normalize=True, title=f'Confusion Matrix : Logistic Regression (TFIDF)')\n",
    "plt.grid(False)\n",
    "plt.savefig(f'../assets/final_{\"Logistic Regression (TFIDF)\".lower()}.png')\n",
    "plt.show()"
   ]
  }
 ],
 "metadata": {
  "interpreter": {
   "hash": "dad89bf5f1b2cb08ccdbafc90d2c16c54f88fb59043cbc39ea638bf90f47b25f"
  },
  "kernelspec": {
   "display_name": "Python 3.9.10 ('kaggle-womens-ecommerce-clothing-reviews-NPFNn3Go')",
   "language": "python",
   "name": "python3"
  },
  "language_info": {
   "codemirror_mode": {
    "name": "ipython",
    "version": 3
   },
   "file_extension": ".py",
   "mimetype": "text/x-python",
   "name": "python",
   "nbconvert_exporter": "python",
   "pygments_lexer": "ipython3",
   "version": "3.9.10"
  },
  "orig_nbformat": 4
 },
 "nbformat": 4,
 "nbformat_minor": 2
}
